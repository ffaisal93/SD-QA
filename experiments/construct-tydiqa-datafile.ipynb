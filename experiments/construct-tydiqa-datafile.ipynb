{
 "cells": [
  {
   "cell_type": "markdown",
   "metadata": {},
   "source": [
    "### construct tydiqa dev data files (question replaced by asr outputs)"
   ]
  },
  {
   "cell_type": "code",
   "execution_count": null,
   "metadata": {
    "ExecuteTime": {
     "start_time": "2021-09-02T19:28:10.681Z"
    }
   },
   "outputs": [],
   "source": [
    "import pandas as pd\n",
    "import os\n",
    "import utils\n",
    "import importlib\n",
    "importlib.reload(utils)\n",
    "\n",
    "root_path = '../'\n",
    "discard = ['.DS_Store','readme.md','asr_metadata']\n",
    "data_type = 'dev'\n",
    "discard_col = ['ID', 'in XOR dev', 'Unnamed: 0']\n",
    "lang_st = {\n",
    "    'ben':'bengali',\n",
    "    'eng':'english',\n",
    "    'ara':'arabic',\n",
    "    'kor':'korean',\n",
    "    'swa':'swahili'\n",
    "}\n",
    "\n",
    "tydi_dir='tydiqa_data'\n",
    "outpath = os.path.join(root_path,tydi_dir,data_type)\n",
    "if utils.dir_check(outpath,'dir')==False:\n",
    "    utils.make_dir(outpath)\n",
    "\n",
    "tydi_train_file=os.path.join(root_path,tydi_dir,'tydiqa-v1.0-train.jsonl.gz')\n",
    "if utils.dir_check(tydi_train_file,'file')==False:\n",
    "    print('Download tydiqa train file (tydiqa-v1.0-train.jsonl.gz) to: ',os.path.join(root_path,tydi_dir))\n",
    "\n",
    "for f1 in os.listdir(root_path):\n",
    "    if f1 not in discard and str(f1)==data_type:\n",
    "        for f2 in os.listdir(os.path.join(root_path,f1)):\n",
    "            if f2 not in discard:\n",
    "                testfile = '{}.{}.csv'.format(lang_st[f2],data_type)\n",
    "                testpath = os.path.join(root_path,f1,f2)\n",
    "                print(testpath, testfile)\n",
    "                all_data  = pd.read_csv(os.path.join(testpath, testfile), sep=\",\")\n",
    "                for col in list(all_data.columns):\n",
    "                    if col not in discard_col:\n",
    "                        lang = lang_st[f2]\n",
    "                        print(f1,f2,col, lang)\n",
    "                        outfile = '{}_{}_{}.jsonl.gz'.format(f2,col,f1)\n",
    "                        print(testfile, testpath)\n",
    "                        print(outfile, outpath)\n",
    "                        if utils.dir_check(os.path.join(outpath, outfile),'file')==False:\n",
    "                            !python3 $root_path'experiments/'transcript_replace.py \\\n",
    "                            -data $root_path$tydi_dir \\\n",
    "                            -l $lang \\\n",
    "                            -inpf 'tydiqa-v1.0-train.jsonl.gz' \\\n",
    "                            -testp $testpath \\\n",
    "                            -testf $testfile \\\n",
    "                            -oupf $outfile \\\n",
    "                            -outp $outpath \\\n",
    "                            -tcol $s \\\n",
    "                            -q 'add'    "
   ]
  },
  {
   "cell_type": "markdown",
   "metadata": {},
   "source": [
    "### construct tydiqa test data files (question replaced by asr outputs)"
   ]
  },
  {
   "cell_type": "code",
   "execution_count": null,
   "metadata": {
    "ExecuteTime": {
     "end_time": "2021-09-02T19:36:05.653646Z",
     "start_time": "2021-09-02T19:36:05.645264Z"
    }
   },
   "outputs": [],
   "source": [
    "import pandas as pd\n",
    "import os\n",
    "import utils\n",
    "import importlib\n",
    "importlib.reload(utils)\n",
    "\n",
    "root_path = '../'\n",
    "discard = ['.DS_Store','readme.md','asr_metadata']\n",
    "data_type = 'test'\n",
    "discard_col = ['ID', 'in XOR dev', 'Unnamed: 0']\n",
    "lang_st = {\n",
    "    'ben':'bengali',\n",
    "    'eng':'english',\n",
    "    'ara':'arabic',\n",
    "    'kor':'korean',\n",
    "    'swa':'swahili'\n",
    "}\n",
    "\n",
    "tydi_dir='tydiqa_data'\n",
    "outpath = os.path.join(root_path,tydi_dir,data_type)\n",
    "if utils.dir_check(outpath,'dir')==False:\n",
    "    utils.make_dir(outpath)\n",
    "\n",
    "tydi_dev_file=os.path.join(root_path,tydi_dir,'tydiqa-v1.0-dev.jsonl.gz')\n",
    "if utils.dir_check(tydi_dev_file,'file')==False:\n",
    "    print('Download tydiqa dev file (tydiqa-v1.0-train.jsonl.gz) to: ',os.path.join(root_path,tydi_dir))\n",
    "\n",
    "\n",
    "for f1 in os.listdir(root_path):\n",
    "    if f1 not in discard and str(f1)==data_type:\n",
    "        for f2 in os.listdir(os.path.join(root_path,f1)):\n",
    "            if f2 not in discard:\n",
    "                testfile = '{}.{}.csv'.format(lang_st[f2],data_type)\n",
    "                testpath = os.path.join(root_path,f1,f2)\n",
    "                print(testpath, testfile)\n",
    "                all_data  = pd.read_csv(os.path.join(testpath, testfile), sep=\",\")\n",
    "                for col in list(all_data.columns):\n",
    "                    if col not in discard_col:\n",
    "                        lang = lang_st[f2]\n",
    "                        print(f1,f2,col, lang)\n",
    "                        outfile = '{}_{}_{}.jsonl.gz'.format(f2,col,f1)\n",
    "                        print(testfile, testpath)\n",
    "                        print(outfile, outpath)\n",
    "                        if utils.dir_check(os.path.join(outpath, outfile),'file')==False:\n",
    "                            !python3 $root_path'experiments/'transcript_replace.py \\\n",
    "                            -data $root_path$tydi_dir \\\n",
    "                            -l $lang \\\n",
    "                            -inpf 'tydiqa-v1.0-dev.jsonl.gz' \\\n",
    "                            -testp $testpath \\\n",
    "                            -testf $testfile \\\n",
    "                            -oupf $outfile \\\n",
    "                            -outp $outpath \\\n",
    "                            -tcol $col \\\n",
    "                            -q 'add'    "
   ]
  },
  {
   "cell_type": "code",
   "execution_count": null,
   "metadata": {},
   "outputs": [],
   "source": []
  }
 ],
 "metadata": {
  "kernelspec": {
   "display_name": "Python 3",
   "language": "python",
   "name": "python3"
  },
  "language_info": {
   "codemirror_mode": {
    "name": "ipython",
    "version": 3
   },
   "file_extension": ".py",
   "mimetype": "text/x-python",
   "name": "python",
   "nbconvert_exporter": "python",
   "pygments_lexer": "ipython3",
   "version": "3.7.6"
  }
 },
 "nbformat": 4,
 "nbformat_minor": 4
}
