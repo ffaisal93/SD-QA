{
 "cells": [
  {
   "cell_type": "markdown",
   "metadata": {},
   "source": [
    "#### generate evaluation text file for all language-dialect specific files\n",
    "- data_path: gold data folder\n",
    "- predict_dir: all predicted files in jsonl format\n",
    "- outdir: folder to save output text file"
   ]
  },
  {
   "cell_type": "markdown",
   "metadata": {},
   "source": [
    "#### dev"
   ]
  },
  {
   "cell_type": "code",
   "execution_count": null,
   "metadata": {},
   "outputs": [],
   "source": [
    "import os \n",
    "import utils\n",
    "import importlib\n",
    "importlib.reload(utils)\n",
    "\n",
    "def constract_output(model,data_path, predict_path, outpath):    \n",
    "    for f in os.listdir(data_path):\n",
    "        f_name, f_ext = os.path.splitext(f)\n",
    "        if f!='.DS_Store' and f_ext=='.gz':\n",
    "            data_file = f\n",
    "            pred_file  = 'pred_'+ f[:-9]+'_'+model+'.jsonl'\n",
    "            log_file = f[:-9]+'.pickle'\n",
    "            outfile = f[:-9]+'.txt'\n",
    "            if dir_check(outpath,'dir')==False:\n",
    "                make_dir(outpath)\n",
    "            print('{}\\n{}\\n{}\\n{}\\n'.format(data_file, pred_file, log_file, outfile))\n",
    "            !python3 ../tydiqa/tydi_eval.py \\\n",
    "              --gold_path=$data_path/$data_file \\\n",
    "              --predictions_path=$predict_path/$pred_file \\\n",
    "              --log_dir=../logs/$log_file \\\n",
    "              > $outpath/$outfile\n",
    "\n",
    "\n",
    "\n",
    "predict_dir = 'tydiqa_data/dev_predict'\n",
    "outdir = 'tydiqa_data/dev_output'\n",
    "data_path = 'tydiqa_data/dev'\n",
    "\n",
    "for f in os.listdir(predict_dir):\n",
    "    if f!='.DS_Store':\n",
    "        model = 'discard_dev'\n",
    "        modeldir=model\n",
    "        predict_path = os.path.join(predict_dir,modeldir)\n",
    "        if utils.dir_check(outdir,'dir')==False:\n",
    "                utils.make_dir(outdir)\n",
    "        outpath = os.path.join(outdir, modeldir)\n",
    "        print(modeldir)\n",
    "        print(data_path, predict_path, outpath)\n",
    "        constract_output(model,modeldir,data_path, predict_path, outpath)"
   ]
  },
  {
   "cell_type": "markdown",
   "metadata": {},
   "source": [
    "#### test"
   ]
  },
  {
   "cell_type": "code",
   "execution_count": null,
   "metadata": {},
   "outputs": [],
   "source": [
    "import os \n",
    "import utils\n",
    "import importlib\n",
    "importlib.reload(utils)\n",
    "\n",
    "def constract_output(model,data_path, predict_path, outpath):    \n",
    "    for f in os.listdir(data_path):\n",
    "        f_name, f_ext = os.path.splitext(f)\n",
    "        if f!='.DS_Store' and f_ext=='.gz':\n",
    "            data_file = f\n",
    "            pred_file  = 'pred_'+ f[:-9]+'_'+model+'.jsonl'\n",
    "            log_file = f[:-9]+'.pickle'\n",
    "            outfile = f[:-9]+'.txt'\n",
    "            if dir_check(outpath,'dir')==False:\n",
    "                make_dir(outpath)\n",
    "            print('{}\\n{}\\n{}\\n{}\\n'.format(data_file, pred_file, log_file, outfile))\n",
    "            !python3 ../tydiqa/tydi_eval.py \\\n",
    "              --gold_path=$data_path/$data_file \\\n",
    "              --predictions_path=$predict_path/$pred_file \\\n",
    "              --log_dir=../logs/$log_file \\\n",
    "              > $outpath/$outfile\n",
    "\n",
    "\n",
    "\n",
    "predict_dir = 'tydiqa_data/test_predict'\n",
    "outdir = 'tydiqa_data/test_output'\n",
    "data_path = 'tydiqa_data/test'\n",
    "\n",
    "for f in os.listdir(predict_dir):\n",
    "    if f!='.DS_Store':\n",
    "        model = 'discard_dev'\n",
    "        modeldir=model\n",
    "        predict_path = os.path.join(predict_dir,modeldir)\n",
    "        if utils.dir_check(outdir,'dir')==False:\n",
    "                utils.make_dir(outdir)\n",
    "        outpath = os.path.join(outdir, modeldir)\n",
    "        print(modeldir)\n",
    "        print(data_path, predict_path, outpath)\n",
    "        constract_output(model,modeldir,data_path, predict_path, outpath)"
   ]
  }
 ],
 "metadata": {
  "kernelspec": {
   "display_name": "Python 3",
   "language": "python",
   "name": "python3"
  },
  "language_info": {
   "codemirror_mode": {
    "name": "ipython",
    "version": 3
   },
   "file_extension": ".py",
   "mimetype": "text/x-python",
   "name": "python",
   "nbconvert_exporter": "python",
   "pygments_lexer": "ipython3",
   "version": "3.7.6"
  }
 },
 "nbformat": 4,
 "nbformat_minor": 4
}
