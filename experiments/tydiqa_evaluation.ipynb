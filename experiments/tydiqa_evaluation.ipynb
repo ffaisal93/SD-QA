{
 "cells": [
  {
   "cell_type": "markdown",
   "metadata": {},
   "source": [
    "#### OUTPUT CONSTRUCT: TEST DATA"
   ]
  },
  {
   "cell_type": "code",
   "execution_count": null,
   "metadata": {},
   "outputs": [],
   "source": [
    "import os \n",
    "import utils\n",
    "import importlib\n",
    "importlib.reload(utils)\n",
    "\n",
    "def constract_output(model,modeldir,data_path, predict_path, outpath, logdir):    \n",
    "    for f in os.listdir(data_path):\n",
    "        f_name, f_ext = os.path.splitext(f)\n",
    "        if f!='.DS_Store' and f_ext=='.gz':\n",
    "            data_file = f\n",
    "            pred_file  = 'pred_'+ f[:-9]+'_'+model+'.jsonl'\n",
    "            log_file = model+'-'+f[:-9]+'.pickle'\n",
    "            outfile = f[:-9]+'.txt'\n",
    "            if utils.dir_check(outpath,'dir')==False:\n",
    "                utils.make_dir(outpath)\n",
    "            print('{}\\n{}\\n{}\\n{}\\n'.format(data_file, pred_file, log_file, outfile))\n",
    "            !python3 ../baselines/tydiqa/tydi_eval.py \\\n",
    "              --gold_path=$data_path/$data_file \\\n",
    "              --predictions_path=$predict_path/$pred_file \\\n",
    "              --log_dir=$logdir/$log_file \\\n",
    "              > $outpath/$outfile\n",
    "\n",
    "\n",
    "predict_dir = '../tydiqa_data/test_predict'\n",
    "outdir = '../tydiqa_data/test_output'\n",
    "data_path = '../tydiqa_data/test'\n",
    "log_dir = '../tydiqa_data/log_dir'\n",
    "\n",
    "for f in os.listdir(predict_dir):\n",
    "    if f!='.DS_Store':\n",
    "        model = 'discard-dev-10'\n",
    "        modeldir=model\n",
    "#         predict_path = os.path.join(predict_dir,modeldir)\n",
    "        predict_path = os.path.join(predict_dir)\n",
    "        if utils.dir_check(outdir,'dir')==False:\n",
    "                utils.make_dir(outdir)\n",
    "        if utils.dir_check(log_dir,'dir')==False:\n",
    "                utils.make_dir(log_dir)\n",
    "        outpath = os.path.join(outdir, modeldir)\n",
    "        print(modeldir)\n",
    "        print(data_path, predict_path, outpath)\n",
    "        constract_output(model,modeldir,data_path, predict_path, outpath, log_dir"
   ]
  },
  {
   "cell_type": "markdown",
   "metadata": {},
   "source": [
    "#### csv file generation for error analysis "
   ]
  },
  {
   "cell_type": "code",
   "execution_count": 25,
   "metadata": {
    "ExecuteTime": {
     "end_time": "2021-09-27T05:20:26.821150Z",
     "start_time": "2021-09-27T05:20:23.659258Z"
    }
   },
   "outputs": [
    {
     "name": "stdout",
     "output_type": "stream",
     "text": [
      "discard-dev-10-ben_bengali-gold_test.pickle-bengali.pickle discard-dev-10-ben_dhaka-bn-BD_test.pickle-bengali.pickle discard-dev-10-ben_dhaka-bn-IN_test.pickle-bengali.pickle discard-dev-10-ben_ind-bn-BD_test.pickle-bengali.pickle discard-dev-10-ben_ind-bn-IN_test.pickle-bengali.pickle 5\n",
      "bengali-gold dhaka-bn-BD dhaka-bn-IN ind-bn-BD ind-bn-IN 5\n",
      "discard-dev-10-ben_test.csv\n",
      "\n",
      "discard-dev-10-kor_korean-gold_test.pickle-korean.pickle discard-dev-10-kor_korn-ko-KR_test.pickle-korean.pickle discard-dev-10-kor_kors-ko-KR_test.pickle-korean.pickle 3\n",
      "korean-gold korn-ko-KR kors-ko-KR 3\n",
      "discard-dev-10-kor_test.csv\n",
      "\n",
      "discard-dev-10-ara_arabic-gold_test.pickle-arabic.pickle discard-dev-10-ara_egy-ar-EG_test.pickle-arabic.pickle discard-dev-10-ara_dza-ar-DZ_test.pickle-arabic.pickle discard-dev-10-ara_mar-ar-MA_test.pickle-arabic.pickle discard-dev-10-ara_sau-ar-SA_test.pickle-arabic.pickle discard-dev-10-ara_bhr-ar-BH_test.pickle-arabic.pickle discard-dev-10-ara_tun-ar-TN_test.pickle-arabic.pickle discard-dev-10-ara_jor-ar-JO_test.pickle-arabic.pickle 8\n",
      "arabic-gold egy-ar-EG dza-ar-DZ mar-ar-MA sau-ar-SA bhr-ar-BH tun-ar-TN jor-ar-JO 8\n",
      "discard-dev-10-ara_test.csv\n",
      "\n",
      "discard-dev-10-eng_english-gold_test.pickle-english.pickle discard-dev-10-eng_gbr-en-US_test.pickle-english.pickle discard-dev-10-eng_kenya-en-KE_test.pickle-english.pickle discard-dev-10-eng_aus-en-US_test.pickle-english.pickle discard-dev-10-eng_zaf-en-US_test.pickle-english.pickle discard-dev-10-eng_nga-en-US_test.pickle-english.pickle discard-dev-10-eng_phl-en-US_test.pickle-english.pickle discard-dev-10-eng_ind_s-en-IN_test.pickle-english.pickle discard-dev-10-eng_phl-en-PH_test.pickle-english.pickle discard-dev-10-eng_nga-en-NG_test.pickle-english.pickle discard-dev-10-eng_ind_s-en-US_test.pickle-english.pickle discard-dev-10-eng_irl-en-IE_test.pickle-english.pickle discard-dev-10-eng_gbr-en-GB_test.pickle-english.pickle discard-dev-10-eng_irl-en-US_test.pickle-english.pickle discard-dev-10-eng_ind_n-en-US_test.pickle-english.pickle discard-dev-10-eng_aus-en-AU_test.pickle-english.pickle discard-dev-10-eng_kenya-en-US_test.pickle-english.pickle discard-dev-10-eng_nzl-en-US_test.pickle-english.pickle discard-dev-10-eng_ind_n-en-IN_test.pickle-english.pickle discard-dev-10-eng_nzl-en-NZ_test.pickle-english.pickle discard-dev-10-eng_usa-en-US_test.pickle-english.pickle discard-dev-10-eng_zaf-en-ZA_test.pickle-english.pickle 22\n",
      "english-gold gbr-en-US kenya-en-KE aus-en-US zaf-en-US nga-en-US phl-en-US ind phl-en-PH nga-en-NG ind irl-en-IE gbr-en-GB irl-en-US ind aus-en-AU kenya-en-US nzl-en-US ind nzl-en-NZ usa-en-US zaf-en-ZA 22\n",
      "discard-dev-10-eng_test.csv\n",
      "\n",
      "discard-dev-10-swa_swahili-gold_test.pickle-swahili.pickle discard-dev-10-swa_tanzania-sw-KE_test.pickle-swahili.pickle discard-dev-10-swa_tanzania-sw-TZ_test.pickle-swahili.pickle discard-dev-10-swa_kenya-sw-KE_test.pickle-swahili.pickle discard-dev-10-swa_kenya-sw-TZ_test.pickle-swahili.pickle 5\n",
      "swahili-gold tanzania-sw-KE tanzania-sw-TZ kenya-sw-KE kenya-sw-TZ 5\n",
      "discard-dev-10-swa_test.csv\n",
      "\n"
     ]
    }
   ],
   "source": [
    "import os \n",
    "import utils\n",
    "import importlib\n",
    "importlib.reload(utils)\n",
    "\n",
    "logpath='../tydiqa_data/log_dir'\n",
    "outpath='../tydiqa_data/error_analysis'\n",
    "langs=['bengali','korean','arabic','english','swahili']\n",
    "# langs=['arabic']\n",
    "for lang in langs:\n",
    "    goldfile=''\n",
    "    files=''\n",
    "    cols=''\n",
    "    for f in os.listdir(logpath):\n",
    "        if f!='.DS_Store' and 'test' in f and lang in f:\n",
    "            if 'gold' in f:\n",
    "                goldfile=f\n",
    "                gold_col=str(goldfile).split('_')[1]\n",
    "                model=str(goldfile).split('_')[0]\n",
    "                types=str(goldfile).split('_')[-1].split('.')[0]\n",
    "            else:\n",
    "                files=files+' '+f\n",
    "                cols=cols+' '+f.split('_')[1]\n",
    "    all_file = goldfile+' '+files.lstrip()\n",
    "    all_col = gold_col+' '+cols.lstrip()\n",
    "    outfile=model+'_'+types+'.csv'\n",
    "    print(all_file, len(all_file.split(' ')))\n",
    "    print(all_col, len(all_col.split(' ')))\n",
    "    print(outfile)\n",
    "    print()\n",
    "    !python3 csv_log.py \\\n",
    "        -f $all_file \\\n",
    "        -c $all_col \\\n",
    "        -d $logpath \\\n",
    "        -o $outpath/$outfile"
   ]
  },
  {
   "cell_type": "code",
   "execution_count": null,
   "metadata": {},
   "outputs": [],
   "source": []
  }
 ],
 "metadata": {
  "kernelspec": {
   "display_name": "Python 3",
   "language": "python",
   "name": "python3"
  },
  "language_info": {
   "codemirror_mode": {
    "name": "ipython",
    "version": 3
   },
   "file_extension": ".py",
   "mimetype": "text/x-python",
   "name": "python",
   "nbconvert_exporter": "python",
   "pygments_lexer": "ipython3",
   "version": "3.7.6"
  }
 },
 "nbformat": 4,
 "nbformat_minor": 4
}
